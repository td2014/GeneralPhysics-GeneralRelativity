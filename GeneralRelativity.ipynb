{
 "cells": [
  {
   "cell_type": "markdown",
   "metadata": {},
   "source": [
    "# General Relativity\n",
    "This notebook will walk through a discussion of General Relativity, Einstein's theory of Gravitation.  The idea here is to connect from the mathematical foundations in geometry and tensors to the physical content of the Gravitational Field equations.  This is somewhat inspired by some recent developments that connect something called Anti-deSitter Space with Conformal Field Theory (AdS/CFT), but stands on its own as a topic of interest. "
   ]
  }
 ],
 "metadata": {
  "kernelspec": {
   "display_name": "Python 3",
   "language": "python",
   "name": "python3"
  },
  "language_info": {
   "codemirror_mode": {
    "name": "ipython",
    "version": 3
   },
   "file_extension": ".py",
   "mimetype": "text/x-python",
   "name": "python",
   "nbconvert_exporter": "python",
   "pygments_lexer": "ipython3",
   "version": "3.6.4"
  }
 },
 "nbformat": 4,
 "nbformat_minor": 2
}
